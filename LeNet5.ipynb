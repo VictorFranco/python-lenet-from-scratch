{
 "cells": [
  {
   "cell_type": "markdown",
   "metadata": {
    "id": "hCcMZ59ImW4B"
   },
   "source": [
    "# LeNet 5\n",
    "\n",
    "Author: Franco Hernández Victor Alfonso\n",
    "\n",
    "<a href=\"https://colab.research.google.com/github/VictorFranco/python-lenet-from-scratch/blob/main/LeNet5.ipynb\" target=\"_parent\"><img src=\"https://colab.research.google.com/assets/colab-badge.svg\" alt=\"Open In Colab\"/></a>"
   ]
  },
  {
   "cell_type": "code",
   "execution_count": 1,
   "metadata": {
    "colab": {
     "base_uri": "https://localhost:8080/"
    },
    "id": "318_FDwkxXpp",
    "outputId": "39166d0b-a17a-43fc-c9ef-759e2badc295"
   },
   "outputs": [
    {
     "name": "stdout",
     "output_type": "stream",
     "text": [
      "Downloading http://yann.lecun.com/exdb/mnist/train-images-idx3-ubyte.gz\n",
      "Downloading http://yann.lecun.com/exdb/mnist/train-images-idx3-ubyte.gz to MNIST_data/MNIST/raw/train-images-idx3-ubyte.gz\n"
     ]
    },
    {
     "name": "stderr",
     "output_type": "stream",
     "text": [
      "100%|██████████| 9912422/9912422 [00:00<00:00, 104049570.66it/s]\n"
     ]
    },
    {
     "name": "stdout",
     "output_type": "stream",
     "text": [
      "Extracting MNIST_data/MNIST/raw/train-images-idx3-ubyte.gz to MNIST_data/MNIST/raw\n",
      "\n",
      "Downloading http://yann.lecun.com/exdb/mnist/train-labels-idx1-ubyte.gz\n",
      "Downloading http://yann.lecun.com/exdb/mnist/train-labels-idx1-ubyte.gz to MNIST_data/MNIST/raw/train-labels-idx1-ubyte.gz\n"
     ]
    },
    {
     "name": "stderr",
     "output_type": "stream",
     "text": [
      "100%|██████████| 28881/28881 [00:00<00:00, 43324640.14it/s]\n"
     ]
    },
    {
     "name": "stdout",
     "output_type": "stream",
     "text": [
      "Extracting MNIST_data/MNIST/raw/train-labels-idx1-ubyte.gz to MNIST_data/MNIST/raw\n",
      "\n",
      "Downloading http://yann.lecun.com/exdb/mnist/t10k-images-idx3-ubyte.gz\n",
      "Downloading http://yann.lecun.com/exdb/mnist/t10k-images-idx3-ubyte.gz to MNIST_data/MNIST/raw/t10k-images-idx3-ubyte.gz\n"
     ]
    },
    {
     "name": "stderr",
     "output_type": "stream",
     "text": [
      "100%|██████████| 1648877/1648877 [00:00<00:00, 24848793.64it/s]\n"
     ]
    },
    {
     "name": "stdout",
     "output_type": "stream",
     "text": [
      "Extracting MNIST_data/MNIST/raw/t10k-images-idx3-ubyte.gz to MNIST_data/MNIST/raw\n",
      "\n",
      "Downloading http://yann.lecun.com/exdb/mnist/t10k-labels-idx1-ubyte.gz\n",
      "Downloading http://yann.lecun.com/exdb/mnist/t10k-labels-idx1-ubyte.gz to MNIST_data/MNIST/raw/t10k-labels-idx1-ubyte.gz\n"
     ]
    },
    {
     "name": "stderr",
     "output_type": "stream",
     "text": [
      "100%|██████████| 4542/4542 [00:00<00:00, 7503162.18it/s]\n"
     ]
    },
    {
     "name": "stdout",
     "output_type": "stream",
     "text": [
      "Extracting MNIST_data/MNIST/raw/t10k-labels-idx1-ubyte.gz to MNIST_data/MNIST/raw\n",
      "\n"
     ]
    }
   ],
   "source": [
    "import torch\n",
    "from torchvision import datasets, transforms\n",
    "import matplotlib.pyplot as plt\n",
    "from torch import nn\n",
    "import numpy as np\n",
    "\n",
    "transform_train = transforms.Compose([\n",
    "    transforms.Resize(32),\n",
    "    transforms.ToTensor(),\n",
    "    transforms.Normalize([0],[1])\n",
    "])\n",
    "\n",
    "trainset = datasets.MNIST(\n",
    "    \"MNIST_data\",\n",
    "    train = True,\n",
    "    transform = transform_train,\n",
    "    download = True\n",
    ")\n",
    "\n",
    "testset = datasets.MNIST(\n",
    "    \"MNIST_data\",\n",
    "    transform = transform_train,\n",
    "    download = True\n",
    ")"
   ]
  },
  {
   "cell_type": "code",
   "execution_count": 2,
   "metadata": {
    "id": "DJ6JDCrM7faL"
   },
   "outputs": [],
   "source": [
    "class LinearLayer():\n",
    "  in_features = 0\n",
    "  out_features = 0\n",
    "  weights = np.array([])\n",
    "  biases = np.array([])\n",
    "  def __init__(self, in_features, out_features):\n",
    "    self.in_features = in_features\n",
    "    self.out_features = out_features\n",
    "    self.weights = np.random.rand(in_features, out_features)\n",
    "    self.biases = np.random.rand(1, out_features)"
   ]
  },
  {
   "cell_type": "code",
   "execution_count": 3,
   "metadata": {
    "id": "QmldZxSzWPqT"
   },
   "outputs": [],
   "source": [
    "class ConvolutionalLayer():\n",
    "  kernels = np.array([])\n",
    "  biases = np.array([])\n",
    "  def __init__(self, in_channels, out_channels, kernel_size):\n",
    "    self.in_channels = in_channels\n",
    "    self.out_channels = out_channels\n",
    "    self.kernel_size = kernel_size\n",
    "    self.kernels = np.random.rand(out_channels, kernel_size, kernel_size)\n",
    "    self.biases = np.random.rand(1, out_channels)\n",
    "  def forward(self, image):\n",
    "    if image.ndim == 2:\n",
    "      image = np.expand_dims(image, axis=0)\n",
    "      print(image.shape)\n",
    "    maps = []\n",
    "    for k in range(self.out_channels):\n",
    "      kernel = self.kernels[k]\n",
    "      bias = 0.01\n",
    "      feature_map = []\n",
    "      for i in range(int(image.shape[1]-4)):\n",
    "        row = []\n",
    "        for j in range(int(image.shape[1]-4)):\n",
    "          window = image[:,i:5+i,j:5+j]\n",
    "          conv2 = (kernel * window).sum() + bias\n",
    "          row.append(conv2)\n",
    "        feature_map.append(row)\n",
    "      feature_map = np.array(feature_map)\n",
    "      maps.append(feature_map)\n",
    "    maps = np.array(maps)\n",
    "    return maps"
   ]
  },
  {
   "cell_type": "code",
   "execution_count": 4,
   "metadata": {
    "id": "4oAr14L3zeeF"
   },
   "outputs": [],
   "source": [
    "def max_pooling(window_size, stride, i_input):\n",
    "  maps = []\n",
    "  for i in range(int(i_input.shape[0])):\n",
    "    map = i_input[i]\n",
    "    feature_map = []\n",
    "    for j in range(int(i_input.shape[1]/2)):\n",
    "      row = []\n",
    "      for k in range(int(i_input.shape[1]/2)):\n",
    "        max = map[j*2:2+j*2,k*2:2+k*2].max()\n",
    "        row.append(max)\n",
    "      feature_map.append(row)\n",
    "    feature_map = np.array(feature_map)\n",
    "    maps.append(feature_map)\n",
    "  maps = np.array(maps)\n",
    "  return maps\n",
    "\n",
    "def softmax(matrix):\n",
    "  return np.exp(matrix) / np.exp(matrix).sum()"
   ]
  },
  {
   "cell_type": "code",
   "execution_count": 5,
   "metadata": {
    "colab": {
     "base_uri": "https://localhost:8080/",
     "height": 411
    },
    "id": "AkbBYuuW5lZU",
    "outputId": "a1d523d4-2e38-46cc-962c-78a3a471a796"
   },
   "outputs": [
    {
     "name": "stdout",
     "output_type": "stream",
     "text": [
      "(1, 32, 32)\n",
      "[[0.16148633 0.08319012 0.02938001 0.03998054 0.06499315 0.10962685\n",
      "  0.00299803 0.01086557 0.06644625 0.43103315]]\n",
      "9\n"
     ]
    },
    {
     "data": {
      "image/png": "[encoded data removed]",
      "text/plain": [
       "<Figure size 1200x400 with 80 Axes>"
      ]
     },
     "metadata": {},
     "output_type": "display_data"
    }
   ],
   "source": [
    "np.random.seed(30)\n",
    "img = trainset[2][0][0].numpy() / 255\n",
    "\n",
    "convolutional_layers = [\n",
    "    ConvolutionalLayer(1, 6, 5),  # tanh\n",
    "    ConvolutionalLayer(6, 16, 5)  # tanh\n",
    "]\n",
    "\n",
    "linear_layers = [\n",
    "    LinearLayer(400, 120), # tanh\n",
    "    LinearLayer(120, 84),  # tanh\n",
    "    LinearLayer(84, 10)    # softmax\n",
    "]\n",
    "\n",
    "# forwardpass\n",
    "# convolutional layers\n",
    "output = img\n",
    "conv_imgs = []\n",
    "for convolutional_layer in convolutional_layers:\n",
    "  output = np.tanh(convolutional_layer.forward(output))\n",
    "  conv_imgs.append(output)\n",
    "  output = max_pooling(2,2,output)\n",
    "  conv_imgs.append(output)\n",
    "# flatten\n",
    "output = output.flatten()\n",
    "output = np.expand_dims(output, axis=0)\n",
    "# linear layers\n",
    "for index, linear_layer in enumerate(linear_layers):\n",
    "  logit = output @ linear_layer.weights + linear_layer.biases\n",
    "  output = softmax(logit) if index + 1 == len(linear_layers) else np.tanh(logit)\n",
    "print(output)\n",
    "print(np.argmax(output))\n",
    "\n",
    "fig, ax = plt.subplots(nrows=5, ncols=16, figsize=(12, 4))\n",
    "for i in range(16):\n",
    "  for j in range(5):\n",
    "      ax[j][i].axis(\"off\")\n",
    "ax[0][0].imshow(img,cmap='gray')\n",
    "for j in range(4):\n",
    "  for i in range(len(conv_imgs[j])):\n",
    "    ax[j+1][i].imshow(conv_imgs[j][i],cmap='gray')"
   ]
  }
 ],
 "metadata": {
  "colab": {
   "provenance": []
  },
  "kernelspec": {
   "display_name": "Python 3 (ipykernel)",
   "language": "python",
   "name": "python3"
  },
  "language_info": {
   "codemirror_mode": {
    "name": "ipython",
    "version": 3
   },
   "file_extension": ".py",
   "mimetype": "text/x-python",
   "name": "python",
   "nbconvert_exporter": "python",
   "pygments_lexer": "ipython3",
   "version": "3.11.6"
  }
 },
 "nbformat": 4,
 "nbformat_minor": 4
}
