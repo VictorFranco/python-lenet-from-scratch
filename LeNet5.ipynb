{
 "cells": [
  {
   "cell_type": "markdown",
   "metadata": {
    "id": "hCcMZ59ImW4B"
   },
   "source": [
    "# LeNet 5\n",
    "\n",
    "Author: Franco Hernández Victor Alfonso\n",
    "\n",
    "<a href=\"https://colab.research.google.com/github/VictorFranco/python-lenet-from-scratch/blob/main/LeNet5.ipynb\" target=\"_parent\"><img src=\"https://colab.research.google.com/assets/colab-badge.svg\" alt=\"Open In Colab\"/></a>"
   ]
  },
  {
   "cell_type": "code",
   "execution_count": 1,
   "metadata": {
    "colab": {
     "base_uri": "https://localhost:8080/"
    },
    "id": "318_FDwkxXpp",
    "outputId": "f18efabc-1c25-4f91-f661-07310dca46e6"
   },
   "outputs": [
    {
     "name": "stdout",
     "output_type": "stream",
     "text": [
      "Downloading http://yann.lecun.com/exdb/mnist/train-images-idx3-ubyte.gz\n",
      "Downloading http://yann.lecun.com/exdb/mnist/train-images-idx3-ubyte.gz to MNIST_data/MNIST/raw/train-images-idx3-ubyte.gz\n"
     ]
    },
    {
     "name": "stderr",
     "output_type": "stream",
     "text": [
      "100%|██████████| 9912422/9912422 [00:00<00:00, 76187852.75it/s]\n"
     ]
    },
    {
     "name": "stdout",
     "output_type": "stream",
     "text": [
      "Extracting MNIST_data/MNIST/raw/train-images-idx3-ubyte.gz to MNIST_data/MNIST/raw\n",
      "\n",
      "Downloading http://yann.lecun.com/exdb/mnist/train-labels-idx1-ubyte.gz\n",
      "Downloading http://yann.lecun.com/exdb/mnist/train-labels-idx1-ubyte.gz to MNIST_data/MNIST/raw/train-labels-idx1-ubyte.gz\n"
     ]
    },
    {
     "name": "stderr",
     "output_type": "stream",
     "text": [
      "100%|██████████| 28881/28881 [00:00<00:00, 76619667.19it/s]"
     ]
    },
    {
     "name": "stdout",
     "output_type": "stream",
     "text": [
      "Extracting MNIST_data/MNIST/raw/train-labels-idx1-ubyte.gz to MNIST_data/MNIST/raw\n",
      "\n",
      "Downloading http://yann.lecun.com/exdb/mnist/t10k-images-idx3-ubyte.gz\n",
      "Downloading http://yann.lecun.com/exdb/mnist/t10k-images-idx3-ubyte.gz to MNIST_data/MNIST/raw/t10k-images-idx3-ubyte.gz\n"
     ]
    },
    {
     "name": "stderr",
     "output_type": "stream",
     "text": [
      "\n",
      "100%|██████████| 1648877/1648877 [00:00<00:00, 25010456.37it/s]\n"
     ]
    },
    {
     "name": "stdout",
     "output_type": "stream",
     "text": [
      "Extracting MNIST_data/MNIST/raw/t10k-images-idx3-ubyte.gz to MNIST_data/MNIST/raw\n",
      "\n",
      "Downloading http://yann.lecun.com/exdb/mnist/t10k-labels-idx1-ubyte.gz\n",
      "Downloading http://yann.lecun.com/exdb/mnist/t10k-labels-idx1-ubyte.gz to MNIST_data/MNIST/raw/t10k-labels-idx1-ubyte.gz\n"
     ]
    },
    {
     "name": "stderr",
     "output_type": "stream",
     "text": [
      "100%|██████████| 4542/4542 [00:00<00:00, 896537.66it/s]\n"
     ]
    },
    {
     "name": "stdout",
     "output_type": "stream",
     "text": [
      "Extracting MNIST_data/MNIST/raw/t10k-labels-idx1-ubyte.gz to MNIST_data/MNIST/raw\n",
      "\n"
     ]
    }
   ],
   "source": [
    "import torch\n",
    "from torchvision import datasets, transforms\n",
    "import matplotlib.pyplot as plt\n",
    "from torch import nn\n",
    "import numpy as np\n",
    "\n",
    "transform = transforms.Compose([\n",
    "    transforms.Resize(32),\n",
    "    transforms.ToTensor(),\n",
    "    transforms.Normalize([0],[1])\n",
    "])\n",
    "\n",
    "dataset = datasets.MNIST(\n",
    "    \"MNIST_data\",\n",
    "    transform = transform,\n",
    "    download = True\n",
    ")\n",
    "\n",
    "trainset = torch.utils.data.Subset(dataset, list(range(100)))\n",
    "testset = torch.utils.data.Subset(dataset, list(range(100, 200)))"
   ]
  },
  {
   "cell_type": "code",
   "execution_count": 2,
   "metadata": {
    "id": "DJ6JDCrM7faL"
   },
   "outputs": [],
   "source": [
    "class LinearLayer():\n",
    "  in_features = 0\n",
    "  out_features = 0\n",
    "  weights = np.array([])\n",
    "  biases = np.array([])\n",
    "  def __init__(self, in_features, out_features):\n",
    "    self.in_features = in_features\n",
    "    self.out_features = out_features\n",
    "    self.weights = np.random.rand(in_features, out_features)\n",
    "    self.biases = np.random.rand(1, out_features)\n",
    "  def forward(self, input):\n",
    "    return input @ self.weights + self.biases"
   ]
  },
  {
   "cell_type": "code",
   "execution_count": 3,
   "metadata": {
    "id": "QmldZxSzWPqT"
   },
   "outputs": [],
   "source": [
    "class ConvolutionalLayer():\n",
    "  kernels = np.array([])\n",
    "  biases = np.array([])\n",
    "  def __init__(self, in_channels, out_channels, kernel_size):\n",
    "    self.in_channels = in_channels\n",
    "    self.out_channels = out_channels\n",
    "    self.kernel_size = kernel_size\n",
    "    self.kernels = np.random.rand(out_channels, in_channels, kernel_size, kernel_size)\n",
    "    self.biases = np.random.rand(1, out_channels)\n",
    "  def forward(self, image):\n",
    "    if image.ndim == 2:\n",
    "      image = np.expand_dims(image, axis=0)\n",
    "    maps = np.zeros((self.kernels.shape[0], image.shape[1]-4, image.shape[1]-4))\n",
    "    for i in range(self.out_channels):\n",
    "      kernel = self.kernels[i]\n",
    "      bias = -2.5\n",
    "      feature_map = []\n",
    "      for j in range(image.shape[1]-4):\n",
    "        row = []\n",
    "        for k in range(image.shape[1]-4):\n",
    "          window = image[:,j:5+j,k:5+k]\n",
    "          maps[i,j,k] = (kernel * window).sum() + bias\n",
    "    return maps"
   ]
  },
  {
   "cell_type": "code",
   "execution_count": 4,
   "metadata": {
    "id": "4oAr14L3zeeF"
   },
   "outputs": [],
   "source": [
    "def max_pooling(window_size, stride, i_input):\n",
    "  pool = np.zeros((i_input.shape[0],int(i_input.shape[1]/2),int(i_input.shape[1]/2)))\n",
    "  for i in range(i_input.shape[0]):\n",
    "    for j in range(int(i_input.shape[1]/2)):\n",
    "      for k in range(int(i_input.shape[1]/2)):\n",
    "        pool[i,j,k] = i_input[i,j*2:2+j*2,k*2:2+k*2].max()\n",
    "  return pool\n",
    "def softmax(matrix):\n",
    "  return np.exp(matrix) / np.exp(matrix).sum()\n",
    "def tanh_prime(logit):\n",
    "  return 1 - np.tanh(logit)**2\n",
    "def dataset2numpy(dataset):\n",
    "  result = []\n",
    "  for [img, label] in dataset:\n",
    "    img = img[0].numpy()\n",
    "    result.append([img, label])\n",
    "  return result\n",
    "\n",
    "trainset, testset = dataset2numpy(trainset), dataset2numpy(testset)"
   ]
  },
  {
   "cell_type": "code",
   "execution_count": 5,
   "metadata": {
    "id": "xQtmut_C1k41"
   },
   "outputs": [],
   "source": [
    "class LeNet5():\n",
    "  trainset = np.array([])\n",
    "  testset = np.array([])\n",
    "  def __init__(self, trainset, testset):\n",
    "    self.trainset = trainset\n",
    "    self.testset = testset\n",
    "    self.architecture = [\n",
    "        ConvolutionalLayer(1, 6, 5),\n",
    "        \"tanh\",\n",
    "        \"maxpool\",\n",
    "        ConvolutionalLayer(6, 16, 5),\n",
    "        \"tanh\",\n",
    "        \"maxpool\",\n",
    "        \"flatten\",\n",
    "        LinearLayer(400, 120),\n",
    "        \"tanh\",\n",
    "        LinearLayer(120, 84),\n",
    "        \"tanh\",\n",
    "        LinearLayer(84, 10),\n",
    "        \"softmax\"\n",
    "    ]\n",
    "  def forwardpass(self, x):\n",
    "    self.conv_imgs = []\n",
    "    for elm in self.architecture:\n",
    "      match elm:\n",
    "        case \"tanh\":\n",
    "          x = np.tanh(x)\n",
    "          self.conv_imgs.append(x)\n",
    "        case \"softmax\":\n",
    "          x = softmax(x)\n",
    "        case \"maxpool\":\n",
    "          x = max_pooling(2, 2, x)\n",
    "          self.conv_imgs.append(x)\n",
    "        case \"flatten\":\n",
    "          x = np.expand_dims(x.flatten(), axis=0)\n",
    "        case _: # conv layer or linear layer\n",
    "          x = elm.forward(x)\n",
    "    return x\n",
    "  def train(self, lr, epochs):\n",
    "    for epoch in range(epochs):\n",
    "      d_w, d_b = [], []\n",
    "      for i in range(3):\n",
    "        d_w.append(np.zeros_like(self.architecture[11-2*i].weights))\n",
    "        d_b.append(np.zeros_like(self.architecture[11-2*i].biases))\n",
    "      d_k1 = np.zeros_like(self.architecture[3].kernels)\n",
    "      d_b4 = np.zeros_like(self.architecture[3].biases)\n",
    "      d_k2 = np.zeros_like(self.architecture[0].kernels)\n",
    "      d_b5 = np.zeros_like(self.architecture[0].biases)\n",
    "      for [img, label] in trainset:\n",
    "        # forward\n",
    "        c1 = self.architecture[0].forward(img)\n",
    "        z1 = np.tanh(c1)\n",
    "        p1 = max_pooling(2, 2, z1)\n",
    "        c2 = self.architecture[3].forward(p1)\n",
    "        z2 = np.tanh(c2)\n",
    "        p2 = max_pooling(2, 2, z2)\n",
    "        f = np.expand_dims(p2.flatten(), axis=0)\n",
    "        h1 = self.architecture[7].forward(f)\n",
    "        z3 = np.tanh(h1)\n",
    "        h2 = self.architecture[9].forward(z3)\n",
    "        z4 = np.tanh(h2)\n",
    "        h3 = self.architecture[11].forward(z4)\n",
    "        output = softmax(h3)\n",
    "        # backpropagation\n",
    "        # linear\n",
    "        labels = np.zeros_like(output)\n",
    "        labels[0][label-1] = 1 # label to onehot\n",
    "        delta = labels - output\n",
    "        d_w[0] += z4.T @ delta\n",
    "        d_b[0] += delta\n",
    "        delta = delta @ self.architecture[11].weights.T * tanh_prime(h2)\n",
    "        d_w[1] += z3.T @ delta\n",
    "        d_b[1] += delta\n",
    "        delta = delta @ self.architecture[9].weights.T * tanh_prime(h1)\n",
    "        d_w[2] += f.T @ delta\n",
    "        d_b[2] += delta\n",
    "        # convolutional\n",
    "        delta = delta @ self.architecture[7].weights.T\n",
    "        delta = np.reshape(delta, (16,5,5))\n",
    "        for i in range(16):\n",
    "          for j in range(6):\n",
    "            for k in range(10):\n",
    "              for l in range(10):\n",
    "                conv_delta = delta[i] * tanh_prime(c2[i,k,l])\n",
    "                d_k1[i,j] += conv_delta * p1[j,k:k+5,l:l+5]\n",
    "                d_b4[0,i] += conv_delta.sum()\n",
    "                conv_delta = conv_delta * self.architecture[3].kernels[i,j] * tanh_prime(c1[j,k,l])\n",
    "                d_k2[j] += conv_delta * img[k:k+5,l:l+5]\n",
    "                d_b5[0,j] += conv_delta.sum()\n",
    "      for i in range(3):\n",
    "        self.architecture[11-2*i].weights += lr / len(trainset) * d_w[i]\n",
    "        self.architecture[11-2*i].biases += lr / len(trainset) * d_b[i]\n",
    "      self.architecture[3].kernels += lr / len(trainset) * d_k1\n",
    "      self.architecture[3].biases += lr / len(trainset) * d_b4\n",
    "      self.architecture[0].kernels += lr / len(trainset) * d_k2\n",
    "      self.architecture[0].biases += lr / len(trainset) * d_b5"
   ]
  },
  {
   "cell_type": "code",
   "execution_count": 6,
   "metadata": {
    "id": "AkbBYuuW5lZU"
   },
   "outputs": [],
   "source": [
    "# hyperparameters\n",
    "np.random.seed(30)\n",
    "lr = 10\n",
    "epochs = 1\n",
    "\n",
    "lenet = LeNet5(trainset,testset)\n",
    "lenet.train(lr, epochs)"
   ]
  },
  {
   "cell_type": "code",
   "execution_count": 7,
   "metadata": {
    "colab": {
     "base_uri": "https://localhost:8080/",
     "height": 409
    },
    "id": "dvnYl-Qc2yJq",
    "outputId": "3dfcf409-0c3b-4be8-ea82-febe7cc4bc01"
   },
   "outputs": [
    {
     "name": "stdout",
     "output_type": "stream",
     "text": [
      "[[1.05987616e-056 1.09285950e-171 7.78373778e-035 5.73785654e-012\n",
      "  4.71635670e-043 4.59071070e-011 1.66303573e-043 3.48025228e-026\n",
      "  1.00000000e+000 1.83445962e-099]]\n",
      "8\n"
     ]
    },
    {
     "data": {
      "image/png": "[encoded data removed]",
      "text/plain": [
       "<Figure size 1200x400 with 80 Axes>"
      ]
     },
     "metadata": {},
     "output_type": "display_data"
    }
   ],
   "source": [
    "img = trainset[2][0]\n",
    "outputs = lenet.forwardpass(img)\n",
    "print(outputs)\n",
    "print(np.argmax(outputs))\n",
    "\n",
    "fig, ax = plt.subplots(nrows=5, ncols=16, figsize=(12, 4))\n",
    "for i in range(16):\n",
    "  for j in range(5):\n",
    "    ax[j][i].axis(\"off\")\n",
    "ax[0][0].imshow(img,cmap='gray')\n",
    "for i in range(4):\n",
    "  for j in range(len(lenet.conv_imgs[i])):\n",
    "    ax[i+1][j].axis(\"on\")\n",
    "    ax[i+1][j].set_xticks([])\n",
    "    ax[i+1][j].set_yticks([])\n",
    "    ax[i+1][j].imshow(lenet.conv_imgs[i][j],cmap='gray')"
   ]
  }
 ],
 "metadata": {
  "colab": {
   "provenance": []
  },
  "kernelspec": {
   "display_name": "Python 3 (ipykernel)",
   "language": "python",
   "name": "python3"
  },
  "language_info": {
   "codemirror_mode": {
    "name": "ipython",
    "version": 3
   },
   "file_extension": ".py",
   "mimetype": "text/x-python",
   "name": "python",
   "nbconvert_exporter": "python",
   "pygments_lexer": "ipython3",
   "version": "3.11.7"
  }
 },
 "nbformat": 4,
 "nbformat_minor": 4
}
